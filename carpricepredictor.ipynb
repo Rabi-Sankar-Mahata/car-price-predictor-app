{
 "cells": [
  {
   "metadata": {
    "ExecuteTime": {
     "end_time": "2025-07-31T06:03:12.381485Z",
     "start_time": "2025-07-31T06:03:09.547832Z"
    }
   },
   "cell_type": "code",
   "source": [
    "import pandas as pd\n",
    "import joblib\n",
    "from sklearn.ensemble import RandomForestRegressor\n",
    "from sklearn.model_selection import train_test_split\n",
    "from sklearn.pipeline import Pipeline\n",
    "from sklearn.compose import ColumnTransformer\n",
    "from sklearn.preprocessing import StandardScaler, OneHotEncoder\n",
    "\n",
    "# Load dataset\n",
    "df = pd.read_csv(\"clean_car_price.csv\")\n",
    "\n",
    "X = df.drop(columns=[\"selling_price\"])\n",
    "y = df[\"selling_price\"]\n",
    "\n",
    "numeric_features = ['year', 'km_driven', 'seats', 'max_power (in bph)', 'Mileage(KMPL)', 'Engine (CC)']\n",
    "categorical_features = ['name', 'fuel', 'owner']\n",
    "\n",
    "numeric_transformer = Pipeline([\n",
    "    (\"scaler\", StandardScaler())\n",
    "])\n",
    "\n",
    "categorical_transformer = Pipeline([\n",
    "    (\"onehot\", OneHotEncoder(handle_unknown=\"ignore\", sparse_output=False))\n",
    "])\n",
    "\n",
    "preprocessor = ColumnTransformer(\n",
    "    transformers=[\n",
    "        (\"num\", numeric_transformer, numeric_features),\n",
    "        (\"cat\", categorical_transformer, categorical_features)\n",
    "    ],\n",
    "    remainder=\"drop\"\n",
    ")\n",
    "\n",
    "model = Pipeline([\n",
    "    (\"preprocessor\", preprocessor),\n",
    "    (\"regressor\", RandomForestRegressor(n_estimators=100, random_state=42))\n",
    "])\n",
    "\n",
    "X_train, X_test, y_train, y_test = train_test_split(\n",
    "    X, y, test_size=0.2, random_state=42\n",
    ")\n",
    "\n",
    "model.fit(X_train, y_train)\n",
    "\n",
    "joblib.dump(model, \"car_price_model.joblib\")\n",
    "print(\"✅ Model trained and saved successfully with the latest scikit-learn version.\")\n"
   ],
   "id": "27e72735af59b7ce",
   "outputs": [
    {
     "name": "stdout",
     "output_type": "stream",
     "text": [
      "✅ Model trained and saved successfully with the latest scikit-learn version.\n"
     ]
    }
   ],
   "execution_count": 1
  }
 ],
 "metadata": {},
 "nbformat": 4,
 "nbformat_minor": 5
}
